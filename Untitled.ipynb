{
 "cells": [
  {
   "cell_type": "markdown",
   "id": "15e498b2",
   "metadata": {},
   "source": [
    "Ini adalah notebook pertama sata di Hactiv"
   ]
  },
  {
   "cell_type": "markdown",
   "id": "e0001a0c",
   "metadata": {},
   "source": [
    "# Ini Judul"
   ]
  },
  {
   "cell_type": "code",
   "execution_count": 2,
   "id": "fdc63174",
   "metadata": {},
   "outputs": [
    {
     "data": {
      "text/plain": [
       "2"
      ]
     },
     "execution_count": 2,
     "metadata": {},
     "output_type": "execute_result"
    }
   ],
   "source": [
    "1 + 1"
   ]
  },
  {
   "cell_type": "code",
   "execution_count": null,
   "id": "bf76b172",
   "metadata": {},
   "outputs": [],
   "source": []
  }
 ],
 "metadata": {
  "kernelspec": {
   "display_name": "Python 3 (ipykernel)",
   "language": "python",
   "name": "python3"
  },
  "language_info": {
   "codemirror_mode": {
    "name": "ipython",
    "version": 3
   },
   "file_extension": ".py",
   "mimetype": "text/x-python",
   "name": "python",
   "nbconvert_exporter": "python",
   "pygments_lexer": "ipython3",
   "version": "3.9.12"
  }
 },
 "nbformat": 4,
 "nbformat_minor": 5
}
